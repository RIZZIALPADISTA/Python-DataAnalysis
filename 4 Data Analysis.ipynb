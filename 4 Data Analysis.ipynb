{
 "cells": [
  {
   "cell_type": "markdown",
   "id": "0690e230-47fb-4297-934d-74c2a22737fb",
   "metadata": {},
   "source": [
    "# Pandas\n",
    "\n",
    "Pandas is a fast, powerful, flexible and easy to use open source data analysis and manipulation tool, built on top of the Python programming language. More informations [https://pandas.pydata.org/](https://pandas.pydata.org/). Options to download & install pandas:\n",
    "\n",
    "- From Anaconda (no installation required)\r",
    "- \n",
    "From Miniconda: `$ conda create -c conda-forge -n {your_env} python pandas`- \r\n",
    "From PyPI: `$ pip install pandas`ndas\r\n"
   ]
  },
  {
   "cell_type": "code",
   "execution_count": 5,
   "id": "a42af712-9fa6-4155-b408-a6ab1abb53e7",
   "metadata": {},
   "outputs": [],
   "source": [
    "import pandas as pd"
   ]
  },
  {
   "cell_type": "markdown",
   "id": "9620b05d-57c5-4882-84cc-7f0316b6b9e2",
   "metadata": {},
   "source": [
    "# Series"
   ]
  },
  {
   "cell_type": "code",
   "execution_count": 3,
   "id": "342a8248-66dd-474c-b334-af85e39d22e5",
   "metadata": {},
   "outputs": [],
   "source": [
    "mahasiswa = [\"Andi\", \"Budi\", \"Caca\"]"
   ]
  },
  {
   "cell_type": "code",
   "execution_count": 4,
   "id": "40a958c8-2d29-4701-bed8-1696b6970617",
   "metadata": {},
   "outputs": [
    {
     "data": {
      "text/plain": [
       "['Andi', 'Budi', 'Caca']"
      ]
     },
     "execution_count": 4,
     "metadata": {},
     "output_type": "execute_result"
    }
   ],
   "source": [
    "mahasiswa"
   ]
  },
  {
   "cell_type": "code",
   "execution_count": 7,
   "id": "cc8d78e9-fe33-44d2-9c69-0e455f56f250",
   "metadata": {},
   "outputs": [],
   "source": [
    "# 1. create series from list\n",
    "sMahasiswa = pd.Series(mahasiswa)"
   ]
  },
  {
   "cell_type": "code",
   "execution_count": 8,
   "id": "ab097dc9-24c3-418d-8db8-1ebb399e811d",
   "metadata": {},
   "outputs": [
    {
     "data": {
      "text/plain": [
       "0    Andi\n",
       "1    Budi\n",
       "2    Caca\n",
       "dtype: object"
      ]
     },
     "execution_count": 8,
     "metadata": {},
     "output_type": "execute_result"
    }
   ],
   "source": [
    "sMahasiswa"
   ]
  },
  {
   "cell_type": "code",
   "execution_count": 9,
   "id": "73688fbc-2c47-4f15-ac6b-6bd263de3c20",
   "metadata": {},
   "outputs": [
    {
     "data": {
      "text/plain": [
       "'Andi'"
      ]
     },
     "execution_count": 9,
     "metadata": {},
     "output_type": "execute_result"
    }
   ],
   "source": [
    "sMahasiswa[0]"
   ]
  },
  {
   "cell_type": "code",
   "execution_count": 10,
   "id": "be1d6f19-01ea-4ac8-a970-3be279cf950a",
   "metadata": {},
   "outputs": [
    {
     "data": {
      "text/plain": [
       "'Caca'"
      ]
     },
     "execution_count": 10,
     "metadata": {},
     "output_type": "execute_result"
    }
   ],
   "source": [
    "sMahasiswa[2]"
   ]
  },
  {
   "cell_type": "code",
   "execution_count": 11,
   "id": "7f7117f8-a707-4ce2-ad7d-3e38aac0c283",
   "metadata": {},
   "outputs": [
    {
     "data": {
      "text/plain": [
       "1    Budi\n",
       "2    Caca\n",
       "dtype: object"
      ]
     },
     "execution_count": 11,
     "metadata": {},
     "output_type": "execute_result"
    }
   ],
   "source": [
    "sMahasiswa[1:3]"
   ]
  },
  {
   "cell_type": "code",
   "execution_count": 12,
   "id": "5f77f398-c28e-4ec3-a88b-0b9459fe77c4",
   "metadata": {},
   "outputs": [
    {
     "data": {
      "text/plain": [
       "0    Andi\n",
       "2    Caca\n",
       "dtype: object"
      ]
     },
     "execution_count": 12,
     "metadata": {},
     "output_type": "execute_result"
    }
   ],
   "source": [
    "sMahasiswa[0:3:2]"
   ]
  },
  {
   "cell_type": "code",
   "execution_count": 13,
   "id": "bef6d1b4-73f3-4c19-987d-ac0bb4b791fc",
   "metadata": {},
   "outputs": [
    {
     "data": {
      "text/plain": [
       "pandas.core.series.Series"
      ]
     },
     "execution_count": 13,
     "metadata": {},
     "output_type": "execute_result"
    }
   ],
   "source": [
    "type(sMahasiswa)"
   ]
  },
  {
   "cell_type": "code",
   "execution_count": 14,
   "id": "13550317-f8ad-4633-84e2-f30f544a2e56",
   "metadata": {},
   "outputs": [
    {
     "data": {
      "text/plain": [
       "list"
      ]
     },
     "execution_count": 14,
     "metadata": {},
     "output_type": "execute_result"
    }
   ],
   "source": [
    "type(mahasiswa)"
   ]
  },
  {
   "cell_type": "code",
   "execution_count": 15,
   "id": "acc1a3e3-2eaa-40b4-a2a5-1faca64a5531",
   "metadata": {},
   "outputs": [
    {
     "data": {
      "text/plain": [
       "0    Andi\n",
       "1    Budi\n",
       "2    Caca\n",
       "dtype: object"
      ]
     },
     "execution_count": 15,
     "metadata": {},
     "output_type": "execute_result"
    }
   ],
   "source": [
    "# 2. create series from tuple\n",
    "mahasiswa = (\"Andi\", \"Budi\", \"Caca\")\n",
    "sMahasiswa = pd.Series(mahasiswa)\n",
    "sMahasiswa"
   ]
  },
  {
   "cell_type": "code",
   "execution_count": 20,
   "id": "c2668963-3f93-412d-a35f-d67cace3ccfa",
   "metadata": {},
   "outputs": [
    {
     "data": {
      "text/plain": [
       "0    Andi\n",
       "1    Budi\n",
       "2    Caca\n",
       "dtype: object"
      ]
     },
     "execution_count": 20,
     "metadata": {},
     "output_type": "execute_result"
    }
   ],
   "source": [
    "# 3. create series from dictionary\n",
    "mahasiswa = {0:\"Andi\", 1:\"Budi\", 2:\"Caca\"}\n",
    "sMahasiswa = pd.Series(mahasiswa)\n",
    "sMahasiswa"
   ]
  },
  {
   "cell_type": "code",
   "execution_count": 21,
   "id": "0b2e024e-040a-42b0-97a4-4d0303b0d917",
   "metadata": {},
   "outputs": [
    {
     "data": {
      "text/plain": [
       "0    Andi\n",
       "dtype: object"
      ]
     },
     "execution_count": 21,
     "metadata": {},
     "output_type": "execute_result"
    }
   ],
   "source": [
    "# 4. create series from scalar value\n",
    "mahasiswa = \"Andi\"\n",
    "sMahasiswa = pd.Series(mahasiswa)\n",
    "sMahasiswa"
   ]
  },
  {
   "cell_type": "code",
   "execution_count": 25,
   "id": "bd95552e-bd5d-41db-8f5f-3b566e557577",
   "metadata": {},
   "outputs": [
    {
     "data": {
      "text/plain": [
       "0    Andi\n",
       "1    Budi\n",
       "2    Caca\n",
       "Name: FirstName, dtype: object"
      ]
     },
     "execution_count": 25,
     "metadata": {},
     "output_type": "execute_result"
    }
   ],
   "source": [
    "# 5. create series using name series\n",
    "sMahasiswa = pd.Series(\n",
    "    data = (\"Andi\", \"Budi\", \"Caca\"),\n",
    "    name = 'FirstName'\n",
    ")\n",
    "sMahasiswa"
   ]
  },
  {
   "cell_type": "code",
   "execution_count": 26,
   "id": "b1002748-bd6b-4eb9-982b-f60c843e4e19",
   "metadata": {},
   "outputs": [
    {
     "data": {
      "text/plain": [
       "'FirstName'"
      ]
     },
     "execution_count": 26,
     "metadata": {},
     "output_type": "execute_result"
    }
   ],
   "source": [
    "sMahasiswa.name"
   ]
  },
  {
   "cell_type": "markdown",
   "id": "596ad498-9c80-47ce-90d2-539a526c1894",
   "metadata": {},
   "source": [
    "### Series Method"
   ]
  },
  {
   "cell_type": "code",
   "execution_count": 34,
   "id": "d084bb37-9027-4c9b-b468-0c129b7601cf",
   "metadata": {},
   "outputs": [
    {
     "name": "stdout",
     "output_type": "stream",
     "text": [
      "(3,)\n",
      "count        3\n",
      "unique       2\n",
      "top       Andi\n",
      "freq         2\n",
      "dtype: object\n"
     ]
    }
   ],
   "source": [
    "# data view\n",
    "sMahasiswa = pd.Series([\"Andi\", \"Budi\", \"Andi\"])\n",
    "print(sMahasiswa.shape) # (3,) dimensi 1, 3 baris data\n",
    "print(sMahasiswa.describe())"
   ]
  },
  {
   "cell_type": "code",
   "execution_count": 40,
   "id": "6dba2a2c-2cd5-4458-9945-4c98df4b1fd9",
   "metadata": {},
   "outputs": [
    {
     "name": "stdout",
     "output_type": "stream",
     "text": [
      "count     6.000000\n",
      "mean     11.166667\n",
      "std       1.471960\n",
      "min       9.000000\n",
      "25%      10.250000\n",
      "50%      11.500000\n",
      "75%      12.000000\n",
      "max      13.000000\n",
      "dtype: float64\n",
      "6.0\n",
      "9.0\n",
      "13.0\n",
      "1.4719601443879746\n",
      "11.5\n"
     ]
    }
   ],
   "source": [
    "sMahasiswa = pd.Series([12, 13, 12, 11, 10, 9])\n",
    "print(sMahasiswa.describe())\n",
    "print(sMahasiswa.describe()['count'])\n",
    "print(sMahasiswa.describe()['min'])\n",
    "print(sMahasiswa.describe()['max'])\n",
    "print(sMahasiswa.describe()['std'])\n",
    "print(sMahasiswa.describe()['50%'])"
   ]
  },
  {
   "cell_type": "code",
   "execution_count": 48,
   "id": "144e9c06-315f-43b0-8c80-40655d2cba6d",
   "metadata": {},
   "outputs": [
    {
     "name": "stdout",
     "output_type": "stream",
     "text": [
      "13\n",
      "9\n",
      "11.166666666666666\n",
      "11.5\n",
      "12\n",
      "1.4719601443879746\n"
     ]
    }
   ],
   "source": [
    "# series method \n",
    "print(sMahasiswa.max())\n",
    "print(sMahasiswa.min())\n",
    "print(sMahasiswa.mean())\n",
    "print(sMahasiswa.median())\n",
    "print(sMahasiswa.mode()[0])\n",
    "print(sMahasiswa.std())"
   ]
  },
  {
   "cell_type": "code",
   "execution_count": 50,
   "id": "e607fdce-ab99-4347-89a3-60358d3cb1dc",
   "metadata": {},
   "outputs": [
    {
     "data": {
      "text/plain": [
       "[12, 13, 12, 11, 10, 9]"
      ]
     },
     "execution_count": 50,
     "metadata": {},
     "output_type": "execute_result"
    }
   ],
   "source": [
    "list(sMahasiswa)"
   ]
  },
  {
   "cell_type": "code",
   "execution_count": 51,
   "id": "9025f2e8-a7e4-4650-b9fd-dddcfc57fd31",
   "metadata": {},
   "outputs": [
    {
     "data": {
      "text/plain": [
       "[12, 13, 12, 11, 10, 9]"
      ]
     },
     "execution_count": 51,
     "metadata": {},
     "output_type": "execute_result"
    }
   ],
   "source": [
    "sMahasiswa.tolist()"
   ]
  },
  {
   "cell_type": "markdown",
   "id": "61621668-076a-4b33-a33b-35f3b01b012f",
   "metadata": {},
   "source": [
    "# DataFrame"
   ]
  },
  {
   "cell_type": "code",
   "execution_count": 55,
   "id": "24b31916-4627-46fd-b8ad-e4398cba35d6",
   "metadata": {},
   "outputs": [
    {
     "data": {
      "text/html": [
       "<div>\n",
       "<style scoped>\n",
       "    .dataframe tbody tr th:only-of-type {\n",
       "        vertical-align: middle;\n",
       "    }\n",
       "\n",
       "    .dataframe tbody tr th {\n",
       "        vertical-align: top;\n",
       "    }\n",
       "\n",
       "    .dataframe thead th {\n",
       "        text-align: right;\n",
       "    }\n",
       "</style>\n",
       "<table border=\"1\" class=\"dataframe\">\n",
       "  <thead>\n",
       "    <tr style=\"text-align: right;\">\n",
       "      <th></th>\n",
       "      <th>Kolom X</th>\n",
       "    </tr>\n",
       "  </thead>\n",
       "  <tbody>\n",
       "    <tr>\n",
       "      <th>a</th>\n",
       "      <td>1</td>\n",
       "    </tr>\n",
       "    <tr>\n",
       "      <th>b</th>\n",
       "      <td>2</td>\n",
       "    </tr>\n",
       "    <tr>\n",
       "      <th>c</th>\n",
       "      <td>3</td>\n",
       "    </tr>\n",
       "    <tr>\n",
       "      <th>d</th>\n",
       "      <td>4</td>\n",
       "    </tr>\n",
       "    <tr>\n",
       "      <th>e</th>\n",
       "      <td>5</td>\n",
       "    </tr>\n",
       "  </tbody>\n",
       "</table>\n",
       "</div>"
      ],
      "text/plain": [
       "   Kolom X\n",
       "a        1\n",
       "b        2\n",
       "c        3\n",
       "d        4\n",
       "e        5"
      ]
     },
     "execution_count": 55,
     "metadata": {},
     "output_type": "execute_result"
    }
   ],
   "source": [
    "# 1. create dataframe from list\n",
    "x = [1, 2, 3, 4, 5]\n",
    "dfX = pd.DataFrame(x, columns=['Kolom X'], index=list('abcde'))\n",
    "dfX"
   ]
  },
  {
   "cell_type": "code",
   "execution_count": 56,
   "id": "4e1151ac-03cb-4553-9e0c-3e6dd2dc2685",
   "metadata": {},
   "outputs": [
    {
     "data": {
      "text/html": [
       "<div>\n",
       "<style scoped>\n",
       "    .dataframe tbody tr th:only-of-type {\n",
       "        vertical-align: middle;\n",
       "    }\n",
       "\n",
       "    .dataframe tbody tr th {\n",
       "        vertical-align: top;\n",
       "    }\n",
       "\n",
       "    .dataframe thead th {\n",
       "        text-align: right;\n",
       "    }\n",
       "</style>\n",
       "<table border=\"1\" class=\"dataframe\">\n",
       "  <thead>\n",
       "    <tr style=\"text-align: right;\">\n",
       "      <th></th>\n",
       "      <th>Kolom X</th>\n",
       "    </tr>\n",
       "  </thead>\n",
       "  <tbody>\n",
       "    <tr>\n",
       "      <th>a</th>\n",
       "      <td>1</td>\n",
       "    </tr>\n",
       "    <tr>\n",
       "      <th>b</th>\n",
       "      <td>2</td>\n",
       "    </tr>\n",
       "    <tr>\n",
       "      <th>c</th>\n",
       "      <td>3</td>\n",
       "    </tr>\n",
       "    <tr>\n",
       "      <th>d</th>\n",
       "      <td>4</td>\n",
       "    </tr>\n",
       "    <tr>\n",
       "      <th>e</th>\n",
       "      <td>5</td>\n",
       "    </tr>\n",
       "  </tbody>\n",
       "</table>\n",
       "</div>"
      ],
      "text/plain": [
       "   Kolom X\n",
       "a        1\n",
       "b        2\n",
       "c        3\n",
       "d        4\n",
       "e        5"
      ]
     },
     "execution_count": 56,
     "metadata": {},
     "output_type": "execute_result"
    }
   ],
   "source": [
    "# 2. create dataframe from tuple\n",
    "x = (1, 2, 3, 4, 5)\n",
    "dfX = pd.DataFrame(x, columns=['Kolom X'], index=list('abcde'))\n",
    "dfX"
   ]
  },
  {
   "cell_type": "code",
   "execution_count": 60,
   "id": "e05176a8-ecbd-4fef-958c-21f2b6cd611e",
   "metadata": {},
   "outputs": [
    {
     "data": {
      "text/html": [
       "<div>\n",
       "<style scoped>\n",
       "    .dataframe tbody tr th:only-of-type {\n",
       "        vertical-align: middle;\n",
       "    }\n",
       "\n",
       "    .dataframe tbody tr th {\n",
       "        vertical-align: top;\n",
       "    }\n",
       "\n",
       "    .dataframe thead th {\n",
       "        text-align: right;\n",
       "    }\n",
       "</style>\n",
       "<table border=\"1\" class=\"dataframe\">\n",
       "  <thead>\n",
       "    <tr style=\"text-align: right;\">\n",
       "      <th></th>\n",
       "      <th>Kolom X</th>\n",
       "    </tr>\n",
       "  </thead>\n",
       "  <tbody>\n",
       "    <tr>\n",
       "      <th>a</th>\n",
       "      <td>1</td>\n",
       "    </tr>\n",
       "    <tr>\n",
       "      <th>b</th>\n",
       "      <td>2</td>\n",
       "    </tr>\n",
       "    <tr>\n",
       "      <th>c</th>\n",
       "      <td>3</td>\n",
       "    </tr>\n",
       "    <tr>\n",
       "      <th>d</th>\n",
       "      <td>4</td>\n",
       "    </tr>\n",
       "    <tr>\n",
       "      <th>e</th>\n",
       "      <td>5</td>\n",
       "    </tr>\n",
       "  </tbody>\n",
       "</table>\n",
       "</div>"
      ],
      "text/plain": [
       "   Kolom X\n",
       "a        1\n",
       "b        2\n",
       "c        3\n",
       "d        4\n",
       "e        5"
      ]
     },
     "execution_count": 60,
     "metadata": {},
     "output_type": "execute_result"
    }
   ],
   "source": [
    "# 3. create dataframe from set\n",
    "x = {1, 2, 3, 4, 5}\n",
    "dfX = pd.DataFrame(x, columns=['Kolom X'], index=list('abcde'))\n",
    "dfX"
   ]
  },
  {
   "cell_type": "code",
   "execution_count": 63,
   "id": "4155e061-a118-45df-881b-b3623f297d20",
   "metadata": {},
   "outputs": [
    {
     "data": {
      "text/html": [
       "<div>\n",
       "<style scoped>\n",
       "    .dataframe tbody tr th:only-of-type {\n",
       "        vertical-align: middle;\n",
       "    }\n",
       "\n",
       "    .dataframe tbody tr th {\n",
       "        vertical-align: top;\n",
       "    }\n",
       "\n",
       "    .dataframe thead th {\n",
       "        text-align: right;\n",
       "    }\n",
       "</style>\n",
       "<table border=\"1\" class=\"dataframe\">\n",
       "  <thead>\n",
       "    <tr style=\"text-align: right;\">\n",
       "      <th></th>\n",
       "      <th>x</th>\n",
       "    </tr>\n",
       "  </thead>\n",
       "  <tbody>\n",
       "    <tr>\n",
       "      <th>0</th>\n",
       "      <td>1</td>\n",
       "    </tr>\n",
       "    <tr>\n",
       "      <th>1</th>\n",
       "      <td>2</td>\n",
       "    </tr>\n",
       "    <tr>\n",
       "      <th>2</th>\n",
       "      <td>3</td>\n",
       "    </tr>\n",
       "    <tr>\n",
       "      <th>3</th>\n",
       "      <td>4</td>\n",
       "    </tr>\n",
       "    <tr>\n",
       "      <th>4</th>\n",
       "      <td>5</td>\n",
       "    </tr>\n",
       "  </tbody>\n",
       "</table>\n",
       "</div>"
      ],
      "text/plain": [
       "   x\n",
       "0  1\n",
       "1  2\n",
       "2  3\n",
       "3  4\n",
       "4  5"
      ]
     },
     "execution_count": 63,
     "metadata": {},
     "output_type": "execute_result"
    }
   ],
   "source": [
    "# 4. create dataframe from dictionary\n",
    "x = {\"x\": [1, 2, 3, 4, 5]}\n",
    "dfX = pd.DataFrame(x)\n",
    "dfX"
   ]
  },
  {
   "cell_type": "code",
   "execution_count": 86,
   "id": "21f22690-7412-4005-ac09-e55ed336c15b",
   "metadata": {},
   "outputs": [
    {
     "data": {
      "text/html": [
       "<div>\n",
       "<style scoped>\n",
       "    .dataframe tbody tr th:only-of-type {\n",
       "        vertical-align: middle;\n",
       "    }\n",
       "\n",
       "    .dataframe tbody tr th {\n",
       "        vertical-align: top;\n",
       "    }\n",
       "\n",
       "    .dataframe thead th {\n",
       "        text-align: right;\n",
       "    }\n",
       "</style>\n",
       "<table border=\"1\" class=\"dataframe\">\n",
       "  <thead>\n",
       "    <tr style=\"text-align: right;\">\n",
       "      <th></th>\n",
       "      <th>X</th>\n",
       "    </tr>\n",
       "  </thead>\n",
       "  <tbody>\n",
       "    <tr>\n",
       "      <th>0</th>\n",
       "      <td>1</td>\n",
       "    </tr>\n",
       "    <tr>\n",
       "      <th>1</th>\n",
       "      <td>2</td>\n",
       "    </tr>\n",
       "    <tr>\n",
       "      <th>2</th>\n",
       "      <td>3</td>\n",
       "    </tr>\n",
       "    <tr>\n",
       "      <th>3</th>\n",
       "      <td>4</td>\n",
       "    </tr>\n",
       "    <tr>\n",
       "      <th>4</th>\n",
       "      <td>5</td>\n",
       "    </tr>\n",
       "    <tr>\n",
       "      <th>5</th>\n",
       "      <td>2</td>\n",
       "    </tr>\n",
       "  </tbody>\n",
       "</table>\n",
       "</div>"
      ],
      "text/plain": [
       "   X\n",
       "0  1\n",
       "1  2\n",
       "2  3\n",
       "3  4\n",
       "4  5\n",
       "5  2"
      ]
     },
     "execution_count": 86,
     "metadata": {},
     "output_type": "execute_result"
    }
   ],
   "source": [
    "# 5. create dataframe from series\n",
    "x = pd.Series([1, 2, 3, 4, 5, 2])\n",
    "dfX = pd.DataFrame(x, columns=['X'])\n",
    "dfX"
   ]
  },
  {
   "cell_type": "code",
   "execution_count": 87,
   "id": "08b55477-3180-4a7b-a326-41bb9d107a8e",
   "metadata": {},
   "outputs": [
    {
     "name": "stdout",
     "output_type": "stream",
     "text": [
      "(6, 1)\n",
      "RangeIndex(start=0, stop=6, step=1)\n",
      "Index(['X'], dtype='object')\n"
     ]
    }
   ],
   "source": [
    "# data view\n",
    "print(dfX.shape) # (5, 1) 2D, 5 data, 1 kolom\n",
    "print(dfX.index)\n",
    "print(dfX.columns)"
   ]
  },
  {
   "cell_type": "code",
   "execution_count": 88,
   "id": "9176ce50-51e6-4e8b-8667-a87796b71b03",
   "metadata": {},
   "outputs": [
    {
     "data": {
      "text/plain": [
       "pandas.core.frame.DataFrame"
      ]
     },
     "execution_count": 88,
     "metadata": {},
     "output_type": "execute_result"
    }
   ],
   "source": [
    "type(dfX)"
   ]
  },
  {
   "cell_type": "code",
   "execution_count": 89,
   "id": "1ccba9c7-a909-4f11-9c81-2e81488ce93f",
   "metadata": {},
   "outputs": [
    {
     "data": {
      "text/plain": [
       "pandas.core.series.Series"
      ]
     },
     "execution_count": 89,
     "metadata": {},
     "output_type": "execute_result"
    }
   ],
   "source": [
    "type(dfX['X'])"
   ]
  },
  {
   "cell_type": "code",
   "execution_count": 91,
   "id": "46d6b7b4-2084-4224-9fec-b8f156d344fd",
   "metadata": {},
   "outputs": [
    {
     "name": "stdout",
     "output_type": "stream",
     "text": [
      "1\n",
      "5\n",
      "2.8333333333333335\n",
      "2.5\n",
      "2\n"
     ]
    }
   ],
   "source": [
    "print(dfX['X'].min())\n",
    "print(dfX['X'].max())\n",
    "print(dfX['X'].mean())\n",
    "print(dfX['X'].median())\n",
    "print(dfX['X'].mode()[0])"
   ]
  },
  {
   "cell_type": "code",
   "execution_count": 96,
   "id": "8fe5c43c-48f9-4906-ba4d-4e4200310799",
   "metadata": {},
   "outputs": [
    {
     "data": {
      "text/html": [
       "<div>\n",
       "<style scoped>\n",
       "    .dataframe tbody tr th:only-of-type {\n",
       "        vertical-align: middle;\n",
       "    }\n",
       "\n",
       "    .dataframe tbody tr th {\n",
       "        vertical-align: top;\n",
       "    }\n",
       "\n",
       "    .dataframe thead th {\n",
       "        text-align: right;\n",
       "    }\n",
       "</style>\n",
       "<table border=\"1\" class=\"dataframe\">\n",
       "  <thead>\n",
       "    <tr style=\"text-align: right;\">\n",
       "      <th></th>\n",
       "      <th>X</th>\n",
       "      <th>Y</th>\n",
       "    </tr>\n",
       "  </thead>\n",
       "  <tbody>\n",
       "    <tr>\n",
       "      <th>count</th>\n",
       "      <td>5.000000</td>\n",
       "      <td>5.000000</td>\n",
       "    </tr>\n",
       "    <tr>\n",
       "      <th>mean</th>\n",
       "      <td>3.000000</td>\n",
       "      <td>6.000000</td>\n",
       "    </tr>\n",
       "    <tr>\n",
       "      <th>std</th>\n",
       "      <td>1.581139</td>\n",
       "      <td>3.162278</td>\n",
       "    </tr>\n",
       "    <tr>\n",
       "      <th>min</th>\n",
       "      <td>1.000000</td>\n",
       "      <td>2.000000</td>\n",
       "    </tr>\n",
       "    <tr>\n",
       "      <th>25%</th>\n",
       "      <td>2.000000</td>\n",
       "      <td>4.000000</td>\n",
       "    </tr>\n",
       "    <tr>\n",
       "      <th>50%</th>\n",
       "      <td>3.000000</td>\n",
       "      <td>6.000000</td>\n",
       "    </tr>\n",
       "    <tr>\n",
       "      <th>75%</th>\n",
       "      <td>4.000000</td>\n",
       "      <td>8.000000</td>\n",
       "    </tr>\n",
       "    <tr>\n",
       "      <th>max</th>\n",
       "      <td>5.000000</td>\n",
       "      <td>10.000000</td>\n",
       "    </tr>\n",
       "  </tbody>\n",
       "</table>\n",
       "</div>"
      ],
      "text/plain": [
       "              X          Y\n",
       "count  5.000000   5.000000\n",
       "mean   3.000000   6.000000\n",
       "std    1.581139   3.162278\n",
       "min    1.000000   2.000000\n",
       "25%    2.000000   4.000000\n",
       "50%    3.000000   6.000000\n",
       "75%    4.000000   8.000000\n",
       "max    5.000000  10.000000"
      ]
     },
     "execution_count": 96,
     "metadata": {},
     "output_type": "execute_result"
    }
   ],
   "source": [
    "x = {\n",
    "    \"X\": [1, 2, 3, 4, 5],\n",
    "    \"Y\": [2, 4, 6, 8, 10]\n",
    "}\n",
    "dfX = pd.DataFrame(x)\n",
    "dfX.describe()"
   ]
  },
  {
   "cell_type": "markdown",
   "id": "6a367bc4-304c-457e-8516-fad3db92acc4",
   "metadata": {},
   "source": [
    "## Create DataFrame from Files"
   ]
  },
  {
   "cell_type": "code",
   "execution_count": 101,
   "id": "fa9ca0d0-76b3-4e82-a026-e61d35e3caea",
   "metadata": {},
   "outputs": [
    {
     "data": {
      "text/html": [
       "<div>\n",
       "<style scoped>\n",
       "    .dataframe tbody tr th:only-of-type {\n",
       "        vertical-align: middle;\n",
       "    }\n",
       "\n",
       "    .dataframe tbody tr th {\n",
       "        vertical-align: top;\n",
       "    }\n",
       "\n",
       "    .dataframe thead th {\n",
       "        text-align: right;\n",
       "    }\n",
       "</style>\n",
       "<table border=\"1\" class=\"dataframe\">\n",
       "  <thead>\n",
       "    <tr style=\"text-align: right;\">\n",
       "      <th></th>\n",
       "      <th>No</th>\n",
       "      <th>Nama</th>\n",
       "      <th>Usia</th>\n",
       "      <th>Kota</th>\n",
       "    </tr>\n",
       "  </thead>\n",
       "  <tbody>\n",
       "    <tr>\n",
       "      <th>0</th>\n",
       "      <td>1</td>\n",
       "      <td>Andi</td>\n",
       "      <td>21</td>\n",
       "      <td>Jakarta</td>\n",
       "    </tr>\n",
       "    <tr>\n",
       "      <th>1</th>\n",
       "      <td>2</td>\n",
       "      <td>Budi</td>\n",
       "      <td>22</td>\n",
       "      <td>Bandung</td>\n",
       "    </tr>\n",
       "    <tr>\n",
       "      <th>2</th>\n",
       "      <td>3</td>\n",
       "      <td>Caca</td>\n",
       "      <td>23</td>\n",
       "      <td>Sukabumi</td>\n",
       "    </tr>\n",
       "    <tr>\n",
       "      <th>3</th>\n",
       "      <td>4</td>\n",
       "      <td>Dewi</td>\n",
       "      <td>24</td>\n",
       "      <td>Surabaya</td>\n",
       "    </tr>\n",
       "    <tr>\n",
       "      <th>4</th>\n",
       "      <td>5</td>\n",
       "      <td>Euis</td>\n",
       "      <td>25</td>\n",
       "      <td>Jayapura</td>\n",
       "    </tr>\n",
       "  </tbody>\n",
       "</table>\n",
       "</div>"
      ],
      "text/plain": [
       "   No  Nama  Usia      Kota\n",
       "0   1  Andi    21   Jakarta\n",
       "1   2  Budi    22   Bandung\n",
       "2   3  Caca    23  Sukabumi\n",
       "3   4  Dewi    24  Surabaya\n",
       "4   5  Euis    25  Jayapura"
      ]
     },
     "execution_count": 101,
     "metadata": {},
     "output_type": "execute_result"
    }
   ],
   "source": [
    "# read excel, need openpyxl module\n",
    "# ! python -m pip install openpyxl\n",
    "dataXlsx = pd.read_excel('data1xlsx.xlsx')\n",
    "dataXlsx"
   ]
  },
  {
   "cell_type": "code",
   "execution_count": 102,
   "id": "0a226218-5ea9-4869-87de-14e919c3adb2",
   "metadata": {},
   "outputs": [
    {
     "data": {
      "text/html": [
       "<div>\n",
       "<style scoped>\n",
       "    .dataframe tbody tr th:only-of-type {\n",
       "        vertical-align: middle;\n",
       "    }\n",
       "\n",
       "    .dataframe tbody tr th {\n",
       "        vertical-align: top;\n",
       "    }\n",
       "\n",
       "    .dataframe thead th {\n",
       "        text-align: right;\n",
       "    }\n",
       "</style>\n",
       "<table border=\"1\" class=\"dataframe\">\n",
       "  <thead>\n",
       "    <tr style=\"text-align: right;\">\n",
       "      <th></th>\n",
       "      <th>No</th>\n",
       "      <th>Nama</th>\n",
       "      <th>Usia</th>\n",
       "      <th>Kota</th>\n",
       "    </tr>\n",
       "  </thead>\n",
       "  <tbody>\n",
       "    <tr>\n",
       "      <th>0</th>\n",
       "      <td>1</td>\n",
       "      <td>Fafa</td>\n",
       "      <td>21</td>\n",
       "      <td>Jakarta</td>\n",
       "    </tr>\n",
       "    <tr>\n",
       "      <th>1</th>\n",
       "      <td>2</td>\n",
       "      <td>Gigih</td>\n",
       "      <td>22</td>\n",
       "      <td>Bandung</td>\n",
       "    </tr>\n",
       "    <tr>\n",
       "      <th>2</th>\n",
       "      <td>3</td>\n",
       "      <td>Hani</td>\n",
       "      <td>23</td>\n",
       "      <td>Sukabumi</td>\n",
       "    </tr>\n",
       "    <tr>\n",
       "      <th>3</th>\n",
       "      <td>4</td>\n",
       "      <td>Ijat</td>\n",
       "      <td>24</td>\n",
       "      <td>Surabaya</td>\n",
       "    </tr>\n",
       "    <tr>\n",
       "      <th>4</th>\n",
       "      <td>5</td>\n",
       "      <td>Janu</td>\n",
       "      <td>25</td>\n",
       "      <td>Jayapura</td>\n",
       "    </tr>\n",
       "  </tbody>\n",
       "</table>\n",
       "</div>"
      ],
      "text/plain": [
       "   No   Nama  Usia      Kota\n",
       "0   1   Fafa    21   Jakarta\n",
       "1   2  Gigih    22   Bandung\n",
       "2   3   Hani    23  Sukabumi\n",
       "3   4   Ijat    24  Surabaya\n",
       "4   5   Janu    25  Jayapura"
      ]
     },
     "execution_count": 102,
     "metadata": {},
     "output_type": "execute_result"
    }
   ],
   "source": [
    "dataXlsx = pd.read_excel('data1xlsx.xlsx', 'Sheet2')\n",
    "dataXlsx"
   ]
  },
  {
   "cell_type": "code",
   "execution_count": 103,
   "id": "f5681d99-16d9-4f50-a7ce-ea4f05cbd2ed",
   "metadata": {},
   "outputs": [
    {
     "data": {
      "text/html": [
       "<div>\n",
       "<style scoped>\n",
       "    .dataframe tbody tr th:only-of-type {\n",
       "        vertical-align: middle;\n",
       "    }\n",
       "\n",
       "    .dataframe tbody tr th {\n",
       "        vertical-align: top;\n",
       "    }\n",
       "\n",
       "    .dataframe thead th {\n",
       "        text-align: right;\n",
       "    }\n",
       "</style>\n",
       "<table border=\"1\" class=\"dataframe\">\n",
       "  <thead>\n",
       "    <tr style=\"text-align: right;\">\n",
       "      <th></th>\n",
       "      <th>No</th>\n",
       "      <th>Nama</th>\n",
       "      <th>Usia</th>\n",
       "      <th>Kota</th>\n",
       "    </tr>\n",
       "  </thead>\n",
       "  <tbody>\n",
       "    <tr>\n",
       "      <th>0</th>\n",
       "      <td>1</td>\n",
       "      <td>Fafa</td>\n",
       "      <td>21</td>\n",
       "      <td>Jakarta</td>\n",
       "    </tr>\n",
       "    <tr>\n",
       "      <th>1</th>\n",
       "      <td>2</td>\n",
       "      <td>Gigih</td>\n",
       "      <td>22</td>\n",
       "      <td>Bandung</td>\n",
       "    </tr>\n",
       "    <tr>\n",
       "      <th>2</th>\n",
       "      <td>3</td>\n",
       "      <td>Hani</td>\n",
       "      <td>23</td>\n",
       "      <td>Sukabumi</td>\n",
       "    </tr>\n",
       "    <tr>\n",
       "      <th>3</th>\n",
       "      <td>4</td>\n",
       "      <td>Ijat</td>\n",
       "      <td>24</td>\n",
       "      <td>Surabaya</td>\n",
       "    </tr>\n",
       "    <tr>\n",
       "      <th>4</th>\n",
       "      <td>5</td>\n",
       "      <td>Janu</td>\n",
       "      <td>25</td>\n",
       "      <td>Jayapura</td>\n",
       "    </tr>\n",
       "  </tbody>\n",
       "</table>\n",
       "</div>"
      ],
      "text/plain": [
       "   No   Nama  Usia      Kota\n",
       "0   1   Fafa    21   Jakarta\n",
       "1   2  Gigih    22   Bandung\n",
       "2   3   Hani    23  Sukabumi\n",
       "3   4   Ijat    24  Surabaya\n",
       "4   5   Janu    25  Jayapura"
      ]
     },
     "execution_count": 103,
     "metadata": {},
     "output_type": "execute_result"
    }
   ],
   "source": [
    "dataCsv = pd.read_csv('data1csv.csv')\n",
    "dataCsv"
   ]
  },
  {
   "cell_type": "code",
   "execution_count": 109,
   "id": "923e1f72-57c4-450a-8bec-990925b0d116",
   "metadata": {},
   "outputs": [
    {
     "data": {
      "text/html": [
       "<div>\n",
       "<style scoped>\n",
       "    .dataframe tbody tr th:only-of-type {\n",
       "        vertical-align: middle;\n",
       "    }\n",
       "\n",
       "    .dataframe tbody tr th {\n",
       "        vertical-align: top;\n",
       "    }\n",
       "\n",
       "    .dataframe thead th {\n",
       "        text-align: right;\n",
       "    }\n",
       "</style>\n",
       "<table border=\"1\" class=\"dataframe\">\n",
       "  <thead>\n",
       "    <tr style=\"text-align: right;\">\n",
       "      <th></th>\n",
       "      <th>nama</th>\n",
       "      <th>usia</th>\n",
       "      <th>kota</th>\n",
       "    </tr>\n",
       "  </thead>\n",
       "  <tbody>\n",
       "    <tr>\n",
       "      <th>0</th>\n",
       "      <td>Andi</td>\n",
       "      <td>20</td>\n",
       "      <td>Jakarta</td>\n",
       "    </tr>\n",
       "    <tr>\n",
       "      <th>1</th>\n",
       "      <td>Budi</td>\n",
       "      <td>21</td>\n",
       "      <td>Bandung</td>\n",
       "    </tr>\n",
       "    <tr>\n",
       "      <th>2</th>\n",
       "      <td>Caca</td>\n",
       "      <td>22</td>\n",
       "      <td>Sukabumi</td>\n",
       "    </tr>\n",
       "    <tr>\n",
       "      <th>3</th>\n",
       "      <td>Deni</td>\n",
       "      <td>23</td>\n",
       "      <td>Bogor</td>\n",
       "    </tr>\n",
       "    <tr>\n",
       "      <th>4</th>\n",
       "      <td>Euis</td>\n",
       "      <td>24</td>\n",
       "      <td>Jayapura</td>\n",
       "    </tr>\n",
       "  </tbody>\n",
       "</table>\n",
       "</div>"
      ],
      "text/plain": [
       "   nama  usia      kota\n",
       "0  Andi    20   Jakarta\n",
       "1  Budi    21   Bandung\n",
       "2  Caca    22  Sukabumi\n",
       "3  Deni    23     Bogor\n",
       "4  Euis    24  Jayapura"
      ]
     },
     "execution_count": 109,
     "metadata": {},
     "output_type": "execute_result"
    }
   ],
   "source": [
    "dataJson = pd.read_json('data1json.json')\n",
    "dataJson"
   ]
  },
  {
   "cell_type": "code",
   "execution_count": 110,
   "id": "626d3490-903c-45c8-9b70-2340ac28161e",
   "metadata": {},
   "outputs": [
    {
     "data": {
      "text/html": [
       "<div>\n",
       "<style scoped>\n",
       "    .dataframe tbody tr th:only-of-type {\n",
       "        vertical-align: middle;\n",
       "    }\n",
       "\n",
       "    .dataframe tbody tr th {\n",
       "        vertical-align: top;\n",
       "    }\n",
       "\n",
       "    .dataframe thead th {\n",
       "        text-align: right;\n",
       "    }\n",
       "</style>\n",
       "<table border=\"1\" class=\"dataframe\">\n",
       "  <thead>\n",
       "    <tr style=\"text-align: right;\">\n",
       "      <th></th>\n",
       "      <th>usia</th>\n",
       "    </tr>\n",
       "  </thead>\n",
       "  <tbody>\n",
       "    <tr>\n",
       "      <th>count</th>\n",
       "      <td>5.000000</td>\n",
       "    </tr>\n",
       "    <tr>\n",
       "      <th>mean</th>\n",
       "      <td>22.000000</td>\n",
       "    </tr>\n",
       "    <tr>\n",
       "      <th>std</th>\n",
       "      <td>1.581139</td>\n",
       "    </tr>\n",
       "    <tr>\n",
       "      <th>min</th>\n",
       "      <td>20.000000</td>\n",
       "    </tr>\n",
       "    <tr>\n",
       "      <th>25%</th>\n",
       "      <td>21.000000</td>\n",
       "    </tr>\n",
       "    <tr>\n",
       "      <th>50%</th>\n",
       "      <td>22.000000</td>\n",
       "    </tr>\n",
       "    <tr>\n",
       "      <th>75%</th>\n",
       "      <td>23.000000</td>\n",
       "    </tr>\n",
       "    <tr>\n",
       "      <th>max</th>\n",
       "      <td>24.000000</td>\n",
       "    </tr>\n",
       "  </tbody>\n",
       "</table>\n",
       "</div>"
      ],
      "text/plain": [
       "            usia\n",
       "count   5.000000\n",
       "mean   22.000000\n",
       "std     1.581139\n",
       "min    20.000000\n",
       "25%    21.000000\n",
       "50%    22.000000\n",
       "75%    23.000000\n",
       "max    24.000000"
      ]
     },
     "execution_count": 110,
     "metadata": {},
     "output_type": "execute_result"
    }
   ],
   "source": [
    "dataJson.describe()"
   ]
  },
  {
   "cell_type": "code",
   "execution_count": 113,
   "id": "376c20f9-b4c7-4d1d-b02b-d87b4f52a534",
   "metadata": {},
   "outputs": [
    {
     "data": {
      "text/html": [
       "<div>\n",
       "<style scoped>\n",
       "    .dataframe tbody tr th:only-of-type {\n",
       "        vertical-align: middle;\n",
       "    }\n",
       "\n",
       "    .dataframe tbody tr th {\n",
       "        vertical-align: top;\n",
       "    }\n",
       "\n",
       "    .dataframe thead th {\n",
       "        text-align: right;\n",
       "    }\n",
       "</style>\n",
       "<table border=\"1\" class=\"dataframe\">\n",
       "  <thead>\n",
       "    <tr style=\"text-align: right;\">\n",
       "      <th></th>\n",
       "      <th>nama</th>\n",
       "      <th>usia</th>\n",
       "      <th>kota</th>\n",
       "    </tr>\n",
       "  </thead>\n",
       "  <tbody>\n",
       "    <tr>\n",
       "      <th>0</th>\n",
       "      <td>Andi</td>\n",
       "      <td>20</td>\n",
       "      <td>Jakarta</td>\n",
       "    </tr>\n",
       "    <tr>\n",
       "      <th>1</th>\n",
       "      <td>Budi</td>\n",
       "      <td>21</td>\n",
       "      <td>Bandung</td>\n",
       "    </tr>\n",
       "    <tr>\n",
       "      <th>2</th>\n",
       "      <td>Caca</td>\n",
       "      <td>22</td>\n",
       "      <td>Sukabumi</td>\n",
       "    </tr>\n",
       "    <tr>\n",
       "      <th>3</th>\n",
       "      <td>Deni</td>\n",
       "      <td>23</td>\n",
       "      <td>Bogor</td>\n",
       "    </tr>\n",
       "    <tr>\n",
       "      <th>4</th>\n",
       "      <td>Euis</td>\n",
       "      <td>24</td>\n",
       "      <td>Jayapura</td>\n",
       "    </tr>\n",
       "  </tbody>\n",
       "</table>\n",
       "</div>"
      ],
      "text/plain": [
       "   nama  usia      kota\n",
       "0  Andi    20   Jakarta\n",
       "1  Budi    21   Bandung\n",
       "2  Caca    22  Sukabumi\n",
       "3  Deni    23     Bogor\n",
       "4  Euis    24  Jayapura"
      ]
     },
     "execution_count": 113,
     "metadata": {},
     "output_type": "execute_result"
    }
   ],
   "source": [
    "dfj = dataJson\n",
    "dfj"
   ]
  },
  {
   "cell_type": "markdown",
   "id": "5675f573-0807-4cd7-9817-23f3b3e3fbc2",
   "metadata": {},
   "source": [
    "## Filtering"
   ]
  },
  {
   "cell_type": "code",
   "execution_count": 120,
   "id": "4e0984dd-66e2-44ed-b0da-69ddef439a0e",
   "metadata": {},
   "outputs": [
    {
     "data": {
      "text/html": [
       "<div>\n",
       "<style scoped>\n",
       "    .dataframe tbody tr th:only-of-type {\n",
       "        vertical-align: middle;\n",
       "    }\n",
       "\n",
       "    .dataframe tbody tr th {\n",
       "        vertical-align: top;\n",
       "    }\n",
       "\n",
       "    .dataframe thead th {\n",
       "        text-align: right;\n",
       "    }\n",
       "</style>\n",
       "<table border=\"1\" class=\"dataframe\">\n",
       "  <thead>\n",
       "    <tr style=\"text-align: right;\">\n",
       "      <th></th>\n",
       "      <th>nama</th>\n",
       "    </tr>\n",
       "  </thead>\n",
       "  <tbody>\n",
       "    <tr>\n",
       "      <th>0</th>\n",
       "      <td>Andi</td>\n",
       "    </tr>\n",
       "    <tr>\n",
       "      <th>1</th>\n",
       "      <td>Budi</td>\n",
       "    </tr>\n",
       "    <tr>\n",
       "      <th>2</th>\n",
       "      <td>Caca</td>\n",
       "    </tr>\n",
       "    <tr>\n",
       "      <th>3</th>\n",
       "      <td>Deni</td>\n",
       "    </tr>\n",
       "    <tr>\n",
       "      <th>4</th>\n",
       "      <td>Euis</td>\n",
       "    </tr>\n",
       "  </tbody>\n",
       "</table>\n",
       "</div>"
      ],
      "text/plain": [
       "   nama\n",
       "0  Andi\n",
       "1  Budi\n",
       "2  Caca\n",
       "3  Deni\n",
       "4  Euis"
      ]
     },
     "execution_count": 120,
     "metadata": {},
     "output_type": "execute_result"
    }
   ],
   "source": [
    "# tampilkan data-data pada kolom nama\n",
    "# dfj['nama']  # output: series\n",
    "dfj[['nama']]  # output: dataframe"
   ]
  },
  {
   "cell_type": "code",
   "execution_count": 125,
   "id": "24fccc22-41a2-4ba3-9a37-d06e8de406a7",
   "metadata": {},
   "outputs": [
    {
     "data": {
      "text/html": [
       "<div>\n",
       "<style scoped>\n",
       "    .dataframe tbody tr th:only-of-type {\n",
       "        vertical-align: middle;\n",
       "    }\n",
       "\n",
       "    .dataframe tbody tr th {\n",
       "        vertical-align: top;\n",
       "    }\n",
       "\n",
       "    .dataframe thead th {\n",
       "        text-align: right;\n",
       "    }\n",
       "</style>\n",
       "<table border=\"1\" class=\"dataframe\">\n",
       "  <thead>\n",
       "    <tr style=\"text-align: right;\">\n",
       "      <th></th>\n",
       "      <th>nama</th>\n",
       "      <th>usia</th>\n",
       "    </tr>\n",
       "  </thead>\n",
       "  <tbody>\n",
       "    <tr>\n",
       "      <th>2</th>\n",
       "      <td>Caca</td>\n",
       "      <td>22</td>\n",
       "    </tr>\n",
       "    <tr>\n",
       "      <th>3</th>\n",
       "      <td>Deni</td>\n",
       "      <td>23</td>\n",
       "    </tr>\n",
       "    <tr>\n",
       "      <th>4</th>\n",
       "      <td>Euis</td>\n",
       "      <td>24</td>\n",
       "    </tr>\n",
       "  </tbody>\n",
       "</table>\n",
       "</div>"
      ],
      "text/plain": [
       "   nama  usia\n",
       "2  Caca    22\n",
       "3  Deni    23\n",
       "4  Euis    24"
      ]
     },
     "execution_count": 125,
     "metadata": {},
     "output_type": "execute_result"
    }
   ],
   "source": [
    "# tampilkan nama-nama yang usianya >= 22\n",
    "dfj[['nama', 'usia']][dfj['usia'] >= 22]"
   ]
  },
  {
   "cell_type": "code",
   "execution_count": 127,
   "id": "82c04b8c-4cb6-48d2-a9f1-cc91f3095ceb",
   "metadata": {},
   "outputs": [
    {
     "data": {
      "text/html": [
       "<div>\n",
       "<style scoped>\n",
       "    .dataframe tbody tr th:only-of-type {\n",
       "        vertical-align: middle;\n",
       "    }\n",
       "\n",
       "    .dataframe tbody tr th {\n",
       "        vertical-align: top;\n",
       "    }\n",
       "\n",
       "    .dataframe thead th {\n",
       "        text-align: right;\n",
       "    }\n",
       "</style>\n",
       "<table border=\"1\" class=\"dataframe\">\n",
       "  <thead>\n",
       "    <tr style=\"text-align: right;\">\n",
       "      <th></th>\n",
       "      <th>nama</th>\n",
       "      <th>usia</th>\n",
       "    </tr>\n",
       "  </thead>\n",
       "  <tbody>\n",
       "    <tr>\n",
       "      <th>2</th>\n",
       "      <td>Caca</td>\n",
       "      <td>22</td>\n",
       "    </tr>\n",
       "    <tr>\n",
       "      <th>3</th>\n",
       "      <td>Deni</td>\n",
       "      <td>23</td>\n",
       "    </tr>\n",
       "    <tr>\n",
       "      <th>4</th>\n",
       "      <td>Euis</td>\n",
       "      <td>24</td>\n",
       "    </tr>\n",
       "  </tbody>\n",
       "</table>\n",
       "</div>"
      ],
      "text/plain": [
       "   nama  usia\n",
       "2  Caca    22\n",
       "3  Deni    23\n",
       "4  Euis    24"
      ]
     },
     "execution_count": 127,
     "metadata": {},
     "output_type": "execute_result"
    }
   ],
   "source": [
    "dfj[dfj['usia'] >= 22][['nama', 'usia']]"
   ]
  },
  {
   "cell_type": "code",
   "execution_count": 135,
   "id": "dd77d97d-659b-4edd-b26b-b9158ed1922c",
   "metadata": {},
   "outputs": [
    {
     "data": {
      "text/html": [
       "<div>\n",
       "<style scoped>\n",
       "    .dataframe tbody tr th:only-of-type {\n",
       "        vertical-align: middle;\n",
       "    }\n",
       "\n",
       "    .dataframe tbody tr th {\n",
       "        vertical-align: top;\n",
       "    }\n",
       "\n",
       "    .dataframe thead th {\n",
       "        text-align: right;\n",
       "    }\n",
       "</style>\n",
       "<table border=\"1\" class=\"dataframe\">\n",
       "  <thead>\n",
       "    <tr style=\"text-align: right;\">\n",
       "      <th></th>\n",
       "      <th>nama</th>\n",
       "      <th>usia</th>\n",
       "    </tr>\n",
       "  </thead>\n",
       "  <tbody>\n",
       "    <tr>\n",
       "      <th>0</th>\n",
       "      <td>Andi</td>\n",
       "      <td>20</td>\n",
       "    </tr>\n",
       "    <tr>\n",
       "      <th>1</th>\n",
       "      <td>Budi</td>\n",
       "      <td>21</td>\n",
       "    </tr>\n",
       "  </tbody>\n",
       "</table>\n",
       "</div>"
      ],
      "text/plain": [
       "   nama  usia\n",
       "0  Andi    20\n",
       "1  Budi    21"
      ]
     },
     "execution_count": 135,
     "metadata": {},
     "output_type": "execute_result"
    }
   ],
   "source": [
    "# tampilkan nama-nama yang usianya di bawah rata2 data pada json tsb\n",
    "dfj[['nama', 'usia']][dfj['usia'] < dfj['usia'].mean()]"
   ]
  },
  {
   "cell_type": "code",
   "execution_count": 139,
   "id": "68fe1268-75c0-4f91-8adb-5e73efac1bb7",
   "metadata": {},
   "outputs": [
    {
     "name": "stderr",
     "output_type": "stream",
     "text": [
      "C:\\Users\\lintang.atissalam\\AppData\\Local\\Temp\\ipykernel_16320\\3990759188.py:2: UserWarning: Boolean Series key will be reindexed to match DataFrame index.\n",
      "  dfj[dfj['usia'] > 20][dfj['kota'] == 'Bogor']\n"
     ]
    },
    {
     "data": {
      "text/html": [
       "<div>\n",
       "<style scoped>\n",
       "    .dataframe tbody tr th:only-of-type {\n",
       "        vertical-align: middle;\n",
       "    }\n",
       "\n",
       "    .dataframe tbody tr th {\n",
       "        vertical-align: top;\n",
       "    }\n",
       "\n",
       "    .dataframe thead th {\n",
       "        text-align: right;\n",
       "    }\n",
       "</style>\n",
       "<table border=\"1\" class=\"dataframe\">\n",
       "  <thead>\n",
       "    <tr style=\"text-align: right;\">\n",
       "      <th></th>\n",
       "      <th>nama</th>\n",
       "      <th>usia</th>\n",
       "      <th>kota</th>\n",
       "    </tr>\n",
       "  </thead>\n",
       "  <tbody>\n",
       "    <tr>\n",
       "      <th>3</th>\n",
       "      <td>Deni</td>\n",
       "      <td>23</td>\n",
       "      <td>Bogor</td>\n",
       "    </tr>\n",
       "  </tbody>\n",
       "</table>\n",
       "</div>"
      ],
      "text/plain": [
       "   nama  usia   kota\n",
       "3  Deni    23  Bogor"
      ]
     },
     "execution_count": 139,
     "metadata": {},
     "output_type": "execute_result"
    }
   ],
   "source": [
    "# tampilkan nama orang yang usianya > 20 & asal kota Bogor\n",
    "dfj[dfj['usia'] > 20][dfj['kota'] == 'Bogor']"
   ]
  },
  {
   "cell_type": "markdown",
   "id": "f932918d-c142-47b4-8bd9-d2035ecca0b8",
   "metadata": {},
   "source": [
    "## Handling Missing Data"
   ]
  },
  {
   "cell_type": "code",
   "execution_count": 185,
   "id": "b89b5a5b-0b62-453b-b661-022395946227",
   "metadata": {},
   "outputs": [
    {
     "data": {
      "text/html": [
       "<div>\n",
       "<style scoped>\n",
       "    .dataframe tbody tr th:only-of-type {\n",
       "        vertical-align: middle;\n",
       "    }\n",
       "\n",
       "    .dataframe tbody tr th {\n",
       "        vertical-align: top;\n",
       "    }\n",
       "\n",
       "    .dataframe thead th {\n",
       "        text-align: right;\n",
       "    }\n",
       "</style>\n",
       "<table border=\"1\" class=\"dataframe\">\n",
       "  <thead>\n",
       "    <tr style=\"text-align: right;\">\n",
       "      <th></th>\n",
       "      <th>No</th>\n",
       "      <th>Nama</th>\n",
       "      <th>Usia</th>\n",
       "      <th>Kota</th>\n",
       "    </tr>\n",
       "  </thead>\n",
       "  <tbody>\n",
       "    <tr>\n",
       "      <th>0</th>\n",
       "      <td>1</td>\n",
       "      <td>Fafa</td>\n",
       "      <td>21.0</td>\n",
       "      <td>Jakarta</td>\n",
       "    </tr>\n",
       "    <tr>\n",
       "      <th>1</th>\n",
       "      <td>2</td>\n",
       "      <td>NaN</td>\n",
       "      <td>22.0</td>\n",
       "      <td>Bandung</td>\n",
       "    </tr>\n",
       "    <tr>\n",
       "      <th>2</th>\n",
       "      <td>3</td>\n",
       "      <td>Hani</td>\n",
       "      <td>23.0</td>\n",
       "      <td>NaN</td>\n",
       "    </tr>\n",
       "    <tr>\n",
       "      <th>3</th>\n",
       "      <td>4</td>\n",
       "      <td>Ijat</td>\n",
       "      <td>NaN</td>\n",
       "      <td>Surabaya</td>\n",
       "    </tr>\n",
       "    <tr>\n",
       "      <th>4</th>\n",
       "      <td>5</td>\n",
       "      <td>Janu</td>\n",
       "      <td>25.0</td>\n",
       "      <td>Jayapura</td>\n",
       "    </tr>\n",
       "  </tbody>\n",
       "</table>\n",
       "</div>"
      ],
      "text/plain": [
       "   No  Nama  Usia      Kota\n",
       "0   1  Fafa  21.0   Jakarta\n",
       "1   2   NaN  22.0   Bandung\n",
       "2   3  Hani  23.0       NaN\n",
       "3   4  Ijat   NaN  Surabaya\n",
       "4   5  Janu  25.0  Jayapura"
      ]
     },
     "execution_count": 185,
     "metadata": {},
     "output_type": "execute_result"
    }
   ],
   "source": [
    "df = pd.read_csv('data2csv.csv')\n",
    "df"
   ]
  },
  {
   "cell_type": "code",
   "execution_count": 155,
   "id": "bdece9f5-742f-4fc8-8d74-c5b13fd26471",
   "metadata": {},
   "outputs": [
    {
     "data": {
      "text/plain": [
       "18.2"
      ]
     },
     "execution_count": 155,
     "metadata": {},
     "output_type": "execute_result"
    }
   ],
   "source": [
    "df['Usia'].mean()"
   ]
  },
  {
   "cell_type": "code",
   "execution_count": 156,
   "id": "07aecfd4-ffcf-4f6a-b69c-b75b925c5693",
   "metadata": {},
   "outputs": [
    {
     "data": {
      "text/plain": [
       "float"
      ]
     },
     "execution_count": 156,
     "metadata": {},
     "output_type": "execute_result"
    }
   ],
   "source": [
    "type(df['Nama'][1])"
   ]
  },
  {
   "cell_type": "code",
   "execution_count": 157,
   "id": "a66475f2-2eff-4232-bc94-97dd7dfd4273",
   "metadata": {},
   "outputs": [
    {
     "data": {
      "text/html": [
       "<div>\n",
       "<style scoped>\n",
       "    .dataframe tbody tr th:only-of-type {\n",
       "        vertical-align: middle;\n",
       "    }\n",
       "\n",
       "    .dataframe tbody tr th {\n",
       "        vertical-align: top;\n",
       "    }\n",
       "\n",
       "    .dataframe thead th {\n",
       "        text-align: right;\n",
       "    }\n",
       "</style>\n",
       "<table border=\"1\" class=\"dataframe\">\n",
       "  <thead>\n",
       "    <tr style=\"text-align: right;\">\n",
       "      <th></th>\n",
       "      <th>No</th>\n",
       "      <th>Nama</th>\n",
       "      <th>Usia</th>\n",
       "      <th>Kota</th>\n",
       "    </tr>\n",
       "  </thead>\n",
       "  <tbody>\n",
       "    <tr>\n",
       "      <th>0</th>\n",
       "      <td>False</td>\n",
       "      <td>False</td>\n",
       "      <td>False</td>\n",
       "      <td>False</td>\n",
       "    </tr>\n",
       "    <tr>\n",
       "      <th>1</th>\n",
       "      <td>False</td>\n",
       "      <td>True</td>\n",
       "      <td>False</td>\n",
       "      <td>False</td>\n",
       "    </tr>\n",
       "    <tr>\n",
       "      <th>2</th>\n",
       "      <td>False</td>\n",
       "      <td>False</td>\n",
       "      <td>False</td>\n",
       "      <td>False</td>\n",
       "    </tr>\n",
       "    <tr>\n",
       "      <th>3</th>\n",
       "      <td>False</td>\n",
       "      <td>False</td>\n",
       "      <td>False</td>\n",
       "      <td>False</td>\n",
       "    </tr>\n",
       "    <tr>\n",
       "      <th>4</th>\n",
       "      <td>False</td>\n",
       "      <td>False</td>\n",
       "      <td>False</td>\n",
       "      <td>False</td>\n",
       "    </tr>\n",
       "  </tbody>\n",
       "</table>\n",
       "</div>"
      ],
      "text/plain": [
       "      No   Nama   Usia   Kota\n",
       "0  False  False  False  False\n",
       "1  False   True  False  False\n",
       "2  False  False  False  False\n",
       "3  False  False  False  False\n",
       "4  False  False  False  False"
      ]
     },
     "execution_count": 157,
     "metadata": {},
     "output_type": "execute_result"
    }
   ],
   "source": [
    "# check data yang null\n",
    "df.isnull()"
   ]
  },
  {
   "cell_type": "code",
   "execution_count": 158,
   "id": "7b412ea6-5f74-4f9f-8559-f180fc688523",
   "metadata": {},
   "outputs": [
    {
     "data": {
      "text/plain": [
       "No      0\n",
       "Nama    1\n",
       "Usia    0\n",
       "Kota    0\n",
       "dtype: int64"
      ]
     },
     "execution_count": 158,
     "metadata": {},
     "output_type": "execute_result"
    }
   ],
   "source": [
    "df.isnull().sum()"
   ]
  },
  {
   "cell_type": "code",
   "execution_count": 182,
   "id": "f91cb5ad-b2ca-4e33-bba8-3ba5a826fe40",
   "metadata": {},
   "outputs": [
    {
     "data": {
      "text/html": [
       "<div>\n",
       "<style scoped>\n",
       "    .dataframe tbody tr th:only-of-type {\n",
       "        vertical-align: middle;\n",
       "    }\n",
       "\n",
       "    .dataframe tbody tr th {\n",
       "        vertical-align: top;\n",
       "    }\n",
       "\n",
       "    .dataframe thead th {\n",
       "        text-align: right;\n",
       "    }\n",
       "</style>\n",
       "<table border=\"1\" class=\"dataframe\">\n",
       "  <thead>\n",
       "    <tr style=\"text-align: right;\">\n",
       "      <th></th>\n",
       "      <th>No</th>\n",
       "      <th>Nama</th>\n",
       "      <th>Usia</th>\n",
       "      <th>Kota</th>\n",
       "    </tr>\n",
       "  </thead>\n",
       "  <tbody>\n",
       "    <tr>\n",
       "      <th>0</th>\n",
       "      <td>1</td>\n",
       "      <td>Fafa</td>\n",
       "      <td>21</td>\n",
       "      <td>Jakarta</td>\n",
       "    </tr>\n",
       "    <tr>\n",
       "      <th>1</th>\n",
       "      <td>2</td>\n",
       "      <td>Zizi</td>\n",
       "      <td>22</td>\n",
       "      <td>Bandung</td>\n",
       "    </tr>\n",
       "    <tr>\n",
       "      <th>2</th>\n",
       "      <td>3</td>\n",
       "      <td>Hani</td>\n",
       "      <td>23</td>\n",
       "      <td>-</td>\n",
       "    </tr>\n",
       "    <tr>\n",
       "      <th>3</th>\n",
       "      <td>4</td>\n",
       "      <td>Ijat</td>\n",
       "      <td>0</td>\n",
       "      <td>Surabaya</td>\n",
       "    </tr>\n",
       "    <tr>\n",
       "      <th>4</th>\n",
       "      <td>5</td>\n",
       "      <td>Janu</td>\n",
       "      <td>25</td>\n",
       "      <td>Jayapura</td>\n",
       "    </tr>\n",
       "  </tbody>\n",
       "</table>\n",
       "</div>"
      ],
      "text/plain": [
       "   No  Nama  Usia      Kota\n",
       "0   1  Fafa    21   Jakarta\n",
       "1   2  Zizi    22   Bandung\n",
       "2   3  Hani    23         -\n",
       "3   4  Ijat     0  Surabaya\n",
       "4   5  Janu    25  Jayapura"
      ]
     },
     "execution_count": 182,
     "metadata": {},
     "output_type": "execute_result"
    }
   ],
   "source": [
    "# handle nama yang kosong:\n",
    "# 1. cari nama yang benar!\n",
    "# 2. teknis: isi dengan label kategory: \"Anonymous\"\n",
    "# 3. hapus!\n",
    "df = df.replace([np.nan], 'Zizi')\n",
    "df"
   ]
  },
  {
   "cell_type": "code",
   "execution_count": 179,
   "id": "b73e7699-824c-4366-964c-a073c0ab4b4d",
   "metadata": {},
   "outputs": [
    {
     "data": {
      "text/plain": [
       "False"
      ]
     },
     "execution_count": 179,
     "metadata": {},
     "output_type": "execute_result"
    }
   ],
   "source": [
    "import numpy as np\n",
    "df['Nama'][1] == np.nan"
   ]
  },
  {
   "cell_type": "code",
   "execution_count": 180,
   "id": "122a685b-56af-43ec-bfea-3c2471a7bbf7",
   "metadata": {},
   "outputs": [
    {
     "data": {
      "text/plain": [
       "False"
      ]
     },
     "execution_count": 180,
     "metadata": {},
     "output_type": "execute_result"
    }
   ],
   "source": [
    "np.nan == np.nan"
   ]
  },
  {
   "cell_type": "code",
   "execution_count": 186,
   "id": "f74faaf7-08f6-456e-bf66-5ef7e5451218",
   "metadata": {},
   "outputs": [
    {
     "data": {
      "text/html": [
       "<div>\n",
       "<style scoped>\n",
       "    .dataframe tbody tr th:only-of-type {\n",
       "        vertical-align: middle;\n",
       "    }\n",
       "\n",
       "    .dataframe tbody tr th {\n",
       "        vertical-align: top;\n",
       "    }\n",
       "\n",
       "    .dataframe thead th {\n",
       "        text-align: right;\n",
       "    }\n",
       "</style>\n",
       "<table border=\"1\" class=\"dataframe\">\n",
       "  <thead>\n",
       "    <tr style=\"text-align: right;\">\n",
       "      <th></th>\n",
       "      <th>No</th>\n",
       "      <th>Nama</th>\n",
       "      <th>Usia</th>\n",
       "      <th>Kota</th>\n",
       "    </tr>\n",
       "  </thead>\n",
       "  <tbody>\n",
       "    <tr>\n",
       "      <th>0</th>\n",
       "      <td>1</td>\n",
       "      <td>Fafa</td>\n",
       "      <td>21.0</td>\n",
       "      <td>Jakarta</td>\n",
       "    </tr>\n",
       "    <tr>\n",
       "      <th>1</th>\n",
       "      <td>2</td>\n",
       "      <td>Zizi</td>\n",
       "      <td>22.0</td>\n",
       "      <td>Bandung</td>\n",
       "    </tr>\n",
       "    <tr>\n",
       "      <th>2</th>\n",
       "      <td>3</td>\n",
       "      <td>Hani</td>\n",
       "      <td>23.0</td>\n",
       "      <td>Zizi</td>\n",
       "    </tr>\n",
       "    <tr>\n",
       "      <th>3</th>\n",
       "      <td>4</td>\n",
       "      <td>Ijat</td>\n",
       "      <td>Zizi</td>\n",
       "      <td>Surabaya</td>\n",
       "    </tr>\n",
       "    <tr>\n",
       "      <th>4</th>\n",
       "      <td>5</td>\n",
       "      <td>Janu</td>\n",
       "      <td>25.0</td>\n",
       "      <td>Jayapura</td>\n",
       "    </tr>\n",
       "  </tbody>\n",
       "</table>\n",
       "</div>"
      ],
      "text/plain": [
       "   No  Nama  Usia      Kota\n",
       "0   1  Fafa  21.0   Jakarta\n",
       "1   2  Zizi  22.0   Bandung\n",
       "2   3  Hani  23.0      Zizi\n",
       "3   4  Ijat  Zizi  Surabaya\n",
       "4   5  Janu  25.0  Jayapura"
      ]
     },
     "execution_count": 186,
     "metadata": {},
     "output_type": "execute_result"
    }
   ],
   "source": [
    "## beberapa metode replace nan value!\n",
    "# 1. replace np.nan need numpy\n",
    "df1 = df.replace([np.nan], 'Zizi')\n",
    "df1"
   ]
  },
  {
   "cell_type": "code",
   "execution_count": 188,
   "id": "6f06095a-78cc-4aae-a58b-19eccd93e3ee",
   "metadata": {},
   "outputs": [
    {
     "data": {
      "text/html": [
       "<div>\n",
       "<style scoped>\n",
       "    .dataframe tbody tr th:only-of-type {\n",
       "        vertical-align: middle;\n",
       "    }\n",
       "\n",
       "    .dataframe tbody tr th {\n",
       "        vertical-align: top;\n",
       "    }\n",
       "\n",
       "    .dataframe thead th {\n",
       "        text-align: right;\n",
       "    }\n",
       "</style>\n",
       "<table border=\"1\" class=\"dataframe\">\n",
       "  <thead>\n",
       "    <tr style=\"text-align: right;\">\n",
       "      <th></th>\n",
       "      <th>No</th>\n",
       "      <th>Nama</th>\n",
       "      <th>Usia</th>\n",
       "      <th>Kota</th>\n",
       "    </tr>\n",
       "  </thead>\n",
       "  <tbody>\n",
       "    <tr>\n",
       "      <th>0</th>\n",
       "      <td>1</td>\n",
       "      <td>Fafa</td>\n",
       "      <td>21.0</td>\n",
       "      <td>Jakarta</td>\n",
       "    </tr>\n",
       "    <tr>\n",
       "      <th>1</th>\n",
       "      <td>2</td>\n",
       "      <td>Zizi</td>\n",
       "      <td>22.0</td>\n",
       "      <td>Bandung</td>\n",
       "    </tr>\n",
       "    <tr>\n",
       "      <th>2</th>\n",
       "      <td>3</td>\n",
       "      <td>Hani</td>\n",
       "      <td>23.0</td>\n",
       "      <td>Jakarta</td>\n",
       "    </tr>\n",
       "    <tr>\n",
       "      <th>3</th>\n",
       "      <td>4</td>\n",
       "      <td>Ijat</td>\n",
       "      <td>20.0</td>\n",
       "      <td>Surabaya</td>\n",
       "    </tr>\n",
       "    <tr>\n",
       "      <th>4</th>\n",
       "      <td>5</td>\n",
       "      <td>Janu</td>\n",
       "      <td>25.0</td>\n",
       "      <td>Jayapura</td>\n",
       "    </tr>\n",
       "  </tbody>\n",
       "</table>\n",
       "</div>"
      ],
      "text/plain": [
       "   No  Nama  Usia      Kota\n",
       "0   1  Fafa  21.0   Jakarta\n",
       "1   2  Zizi  22.0   Bandung\n",
       "2   3  Hani  23.0   Jakarta\n",
       "3   4  Ijat  20.0  Surabaya\n",
       "4   5  Janu  25.0  Jayapura"
      ]
     },
     "execution_count": 188,
     "metadata": {},
     "output_type": "execute_result"
    }
   ],
   "source": [
    "# 2. replace per kolom\n",
    "df2 = df.replace({\n",
    "    'Nama': np.nan,\n",
    "    'Usia': np.nan,  \n",
    "    'Kota': np.nan,\n",
    "}, {\n",
    "    'Nama': 'Zizi',\n",
    "    'Usia': 20,  \n",
    "    'Kota': 'Jakarta',\n",
    "})\n",
    "df2"
   ]
  },
  {
   "cell_type": "code",
   "execution_count": 193,
   "id": "05ef7bd1-7f43-46ef-89ae-4ed142c6c3b7",
   "metadata": {},
   "outputs": [
    {
     "data": {
      "text/html": [
       "<div>\n",
       "<style scoped>\n",
       "    .dataframe tbody tr th:only-of-type {\n",
       "        vertical-align: middle;\n",
       "    }\n",
       "\n",
       "    .dataframe tbody tr th {\n",
       "        vertical-align: top;\n",
       "    }\n",
       "\n",
       "    .dataframe thead th {\n",
       "        text-align: right;\n",
       "    }\n",
       "</style>\n",
       "<table border=\"1\" class=\"dataframe\">\n",
       "  <thead>\n",
       "    <tr style=\"text-align: right;\">\n",
       "      <th></th>\n",
       "      <th>No</th>\n",
       "      <th>Nama</th>\n",
       "      <th>Usia</th>\n",
       "      <th>Kota</th>\n",
       "    </tr>\n",
       "  </thead>\n",
       "  <tbody>\n",
       "    <tr>\n",
       "      <th>0</th>\n",
       "      <td>1</td>\n",
       "      <td>Fafa</td>\n",
       "      <td>21.0</td>\n",
       "      <td>Jakarta</td>\n",
       "    </tr>\n",
       "    <tr>\n",
       "      <th>1</th>\n",
       "      <td>2</td>\n",
       "      <td>Hani</td>\n",
       "      <td>22.0</td>\n",
       "      <td>Bandung</td>\n",
       "    </tr>\n",
       "    <tr>\n",
       "      <th>2</th>\n",
       "      <td>3</td>\n",
       "      <td>Hani</td>\n",
       "      <td>23.0</td>\n",
       "      <td>Surabaya</td>\n",
       "    </tr>\n",
       "    <tr>\n",
       "      <th>3</th>\n",
       "      <td>4</td>\n",
       "      <td>Ijat</td>\n",
       "      <td>25.0</td>\n",
       "      <td>Surabaya</td>\n",
       "    </tr>\n",
       "    <tr>\n",
       "      <th>4</th>\n",
       "      <td>5</td>\n",
       "      <td>Janu</td>\n",
       "      <td>25.0</td>\n",
       "      <td>Jayapura</td>\n",
       "    </tr>\n",
       "  </tbody>\n",
       "</table>\n",
       "</div>"
      ],
      "text/plain": [
       "   No  Nama  Usia      Kota\n",
       "0   1  Fafa  21.0   Jakarta\n",
       "1   2  Hani  22.0   Bandung\n",
       "2   3  Hani  23.0  Surabaya\n",
       "3   4  Ijat  25.0  Surabaya\n",
       "4   5  Janu  25.0  Jayapura"
      ]
     },
     "execution_count": 193,
     "metadata": {},
     "output_type": "execute_result"
    }
   ],
   "source": [
    "# 3. replace dengan fillna\n",
    "# ffill = forward filling, mengisi data kosong dg data sebelumnya\n",
    "# bfill = backward filling, mengisi data kosong dg data setelahnya\n",
    "\n",
    "# df3 = df.fillna(method='ffill', axis='columns') \n",
    "# isi data kosong dg data di kolom sblmnya\n",
    "\n",
    "df3 = df.fillna(method='bfill', axis='index') \n",
    "# isi data kosong dg data di baris setelahnya\n",
    "\n",
    "df3"
   ]
  },
  {
   "cell_type": "code",
   "execution_count": 197,
   "id": "c1fa0de9-a439-452b-8fe2-0cbd3f982238",
   "metadata": {},
   "outputs": [
    {
     "data": {
      "text/html": [
       "<div>\n",
       "<style scoped>\n",
       "    .dataframe tbody tr th:only-of-type {\n",
       "        vertical-align: middle;\n",
       "    }\n",
       "\n",
       "    .dataframe tbody tr th {\n",
       "        vertical-align: top;\n",
       "    }\n",
       "\n",
       "    .dataframe thead th {\n",
       "        text-align: right;\n",
       "    }\n",
       "</style>\n",
       "<table border=\"1\" class=\"dataframe\">\n",
       "  <thead>\n",
       "    <tr style=\"text-align: right;\">\n",
       "      <th></th>\n",
       "      <th>No</th>\n",
       "      <th>Nama</th>\n",
       "      <th>Usia</th>\n",
       "      <th>Kota</th>\n",
       "    </tr>\n",
       "  </thead>\n",
       "  <tbody>\n",
       "    <tr>\n",
       "      <th>0</th>\n",
       "      <td>1</td>\n",
       "      <td>Fafa</td>\n",
       "      <td>21.0</td>\n",
       "      <td>Jakarta</td>\n",
       "    </tr>\n",
       "    <tr>\n",
       "      <th>1</th>\n",
       "      <td>2</td>\n",
       "      <td>NaN</td>\n",
       "      <td>22.0</td>\n",
       "      <td>Bandung</td>\n",
       "    </tr>\n",
       "    <tr>\n",
       "      <th>2</th>\n",
       "      <td>3</td>\n",
       "      <td>Hani</td>\n",
       "      <td>23.0</td>\n",
       "      <td>NaN</td>\n",
       "    </tr>\n",
       "    <tr>\n",
       "      <th>3</th>\n",
       "      <td>4</td>\n",
       "      <td>Ijat</td>\n",
       "      <td>24.0</td>\n",
       "      <td>Surabaya</td>\n",
       "    </tr>\n",
       "    <tr>\n",
       "      <th>4</th>\n",
       "      <td>5</td>\n",
       "      <td>Janu</td>\n",
       "      <td>25.0</td>\n",
       "      <td>Jayapura</td>\n",
       "    </tr>\n",
       "  </tbody>\n",
       "</table>\n",
       "</div>"
      ],
      "text/plain": [
       "   No  Nama  Usia      Kota\n",
       "0   1  Fafa  21.0   Jakarta\n",
       "1   2   NaN  22.0   Bandung\n",
       "2   3  Hani  23.0       NaN\n",
       "3   4  Ijat  24.0  Surabaya\n",
       "4   5  Janu  25.0  Jayapura"
      ]
     },
     "execution_count": 197,
     "metadata": {},
     "output_type": "execute_result"
    }
   ],
   "source": [
    "# 4. isi data kosong dg interpolasi\n",
    "# isi data dengan nilai tengah antara nilai sebelum & setelah\n",
    "df4 = df.interpolate()\n",
    "df4"
   ]
  },
  {
   "cell_type": "markdown",
   "id": "b04e6265-ef0e-4972-84d6-a1ae97ea60fc",
   "metadata": {},
   "source": [
    "Tugas: \n",
    "1. Soal 2 - 👨‍🎓 Kerja Kerja Kerja (https://github.com/LintangWisesa/Ujian_AnalyticsVisualization_JCDS07)\n",
    "2. Soal 2 - World Happiness (https://github.com/LintangWisesa/Ujian_AnalyticsVisualization_JCDS08)"
   ]
  }
 ],
 "metadata": {
  "kernelspec": {
   "display_name": "Python 3 (ipykernel)",
   "language": "python",
   "name": "python3"
  },
  "language_info": {
   "codemirror_mode": {
    "name": "ipython",
    "version": 3
   },
   "file_extension": ".py",
   "mimetype": "text/x-python",
   "name": "python",
   "nbconvert_exporter": "python",
   "pygments_lexer": "ipython3",
   "version": "3.10.0"
  }
 },
 "nbformat": 4,
 "nbformat_minor": 5
}
